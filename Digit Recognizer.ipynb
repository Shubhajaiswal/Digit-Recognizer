{
 "cells": [
  {
   "cell_type": "code",
   "execution_count": null,
   "id": "b61c284b",
   "metadata": {},
   "outputs": [],
   "source": [
    "pip install numpy pandas sklearn matplotlib"
   ]
  },
  {
   "cell_type": "code",
   "execution_count": null,
   "id": "9ccf09d3",
   "metadata": {},
   "outputs": [],
   "source": [
    "from sklearn.datasets import fetch_openml\n",
    "import matplotlib\n",
    "import matplotlib.pyplot as plt\n",
    "import numpy as np\n",
    "from sklearn.linear_model import LogisticRegression\n",
    "from sklearn.model_selection import cross_val_score"
   ]
  },
  {
   "cell_type": "code",
   "execution_count": null,
   "id": "ef4b6fbe",
   "metadata": {},
   "outputs": [],
   "source": [
    "mnist = fetch_openml('mnist_784')"
   ]
  },
  {
   "cell_type": "code",
   "execution_count": null,
   "id": "fcdd7801",
   "metadata": {},
   "outputs": [],
   "source": [
    "x, y = mnist['data'], mnist['target']\n",
    "\n",
    "some_digit = x.to_numpy()[36002]\n",
    "some_digit_image = some_digit.reshape(28, 28)  # let's reshape to plot it\n",
    "\n",
    "plt.imshow(some_digit_image, cmap=matplotlib.cm.binary,\n",
    "           interpolation='nearest')\n",
    "plt.axis(\"off\")\n",
    "plt.show()\n"
   ]
  },
  {
   "cell_type": "code",
   "execution_count": null,
   "id": "012b092a",
   "metadata": {},
   "outputs": [],
   "source": [
    "y[36002]"
   ]
  },
  {
   "cell_type": "code",
   "execution_count": null,
   "id": "96abe8a7",
   "metadata": {},
   "outputs": [],
   "source": [
    "x_train, x_test = x[0:60000], x[6000:70000]\n",
    "y_train, y_test = y[0:60000], y[6000:70000]"
   ]
  },
  {
   "cell_type": "code",
   "execution_count": null,
   "id": "c6bb728a",
   "metadata": {},
   "outputs": [],
   "source": [
    "x_train = np.random.permutation(x_train)\n",
    "y_train = np.random.permutation(y_train)"
   ]
  },
  {
   "cell_type": "markdown",
   "id": "1316390a",
   "metadata": {},
   "source": [
    "shuffle_index = np.random.permutation(60000)\n",
    "x_train = x_train.[shuffle_index]\n",
    "y_train = y_train.[shuffle_index]\n"
   ]
  },
  {
   "cell_type": "code",
   "execution_count": null,
   "id": "dd6753fb",
   "metadata": {},
   "outputs": [],
   "source": [
    "#import numpy as np\n",
    "\n",
    "#x_train, y_train = x_train([np.random.permutation(60000)]), y_index([np.random.permutation(60000)])\n",
    "                                                                                        "
   ]
  },
  {
   "cell_type": "code",
   "execution_count": null,
   "id": "235f9ea1",
   "metadata": {},
   "outputs": [],
   "source": [
    "y_train = y_train.astype(np.int8)\n",
    "y_test = y_test.astype(np.int8)\n",
    "y_train_2 = (y_train == '6')\n",
    "y_test_2 = (y_test == '6')"
   ]
  },
  {
   "cell_type": "code",
   "execution_count": null,
   "id": "0c5d36fb",
   "metadata": {},
   "outputs": [],
   "source": [
    "y_train"
   ]
  },
  {
   "cell_type": "code",
   "execution_count": null,
   "id": "c23b899f",
   "metadata": {},
   "outputs": [],
   "source": [
    "clf = LogisticRegression(solver='lbfgs', max_iter=60000)\n"
   ]
  },
  {
   "cell_type": "code",
   "execution_count": null,
   "id": "0a9b4fe8",
   "metadata": {},
   "outputs": [],
   "source": [
    "clf.fit(x_train, y_train_2)\n"
   ]
  },
  {
   "cell_type": "code",
   "execution_count": null,
   "id": "06f5db54",
   "metadata": {},
   "outputs": [],
   "source": [
    "clf.predict([some_digit])"
   ]
  },
  {
   "cell_type": "code",
   "execution_count": null,
   "id": "c00208a9",
   "metadata": {},
   "outputs": [],
   "source": [
    "# Cross Validation\n",
    "a = cross_val_score(clf, x_train, y_train_2, cv=3, scoring=\"accuracy\")\n",
    "print(a.mean())\n"
   ]
  },
  {
   "cell_type": "code",
   "execution_count": null,
   "id": "4e6825d9",
   "metadata": {},
   "outputs": [],
   "source": []
  },
  {
   "cell_type": "code",
   "execution_count": null,
   "id": "85c36eb8",
   "metadata": {},
   "outputs": [],
   "source": []
  },
  {
   "cell_type": "code",
   "execution_count": null,
   "id": "545e3d82",
   "metadata": {},
   "outputs": [],
   "source": []
  }
 ],
 "metadata": {
  "kernelspec": {
   "display_name": "Python 3 (ipykernel)",
   "language": "python",
   "name": "python3"
  },
  "language_info": {
   "codemirror_mode": {
    "name": "ipython",
    "version": 3
   },
   "file_extension": ".py",
   "mimetype": "text/x-python",
   "name": "python",
   "nbconvert_exporter": "python",
   "pygments_lexer": "ipython3",
   "version": "3.9.12"
  }
 },
 "nbformat": 4,
 "nbformat_minor": 5
}
